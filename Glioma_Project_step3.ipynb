{
 "cells": [
  {
   "cell_type": "code",
   "execution_count": 1,
   "id": "d18b9508-a8cf-4d7d-ba83-5c8a03bf5710",
   "metadata": {},
   "outputs": [],
   "source": [
    "import tkinter as tk\n",
    "import tkinter.ttk\n",
    "from tkinter import filedialog\n",
    "from PIL import ImageTk, Image\n",
    "import numpy as np\n",
    "import cv2\n",
    "import skimage as ski\n",
    "from skimage.color import rgb2gray\n",
    "from sklearn.decomposition import PCA\n",
    "\n",
    "import matplotlib.pyplot as plt\n",
    "import pandas as pd\n",
    "import tables as tb"
   ]
  },
  {
   "cell_type": "code",
   "execution_count": 2,
   "id": "43aa10ff-3a5f-4ef4-a2b7-e573ea83e1f5",
   "metadata": {},
   "outputs": [
    {
     "name": "stdout",
     "output_type": "stream",
     "text": [
      "(240, 240, 4)\n"
     ]
    }
   ],
   "source": [
    "no_slices = 155\n",
    "\n",
    "glioma_masks =  tb.open_file(r\"C:\\Users\\user\\Documents\\UWA\\Honours in Computer Science and Software Engineering\\CITS4402 - Computer Vision\\Project\\archive\\BraTS2020_training_data\\content\\data\\volume_1_slice_0.h5\", mode=\"r\").root.mask.read()\n",
    "glioma_images =  tb.open_file(r\"C:\\Users\\user\\Documents\\UWA\\Honours in Computer Science and Software Engineering\\CITS4402 - Computer Vision\\Project\\archive\\BraTS2020_training_data\\content\\data\\volume_1_slice_0.h5\", mode=\"r\").root.image.read()\n",
    "\n",
    "print(glioma_images.shape)\n",
    "glioma_slices_masks = glioma_masks[np.newaxis,:]\n",
    "glioma_slices_images = glioma_images[np.newaxis,:]\n",
    "\n",
    "for slice in range(1,no_slices):\n",
    "    \n",
    "    next_glioma_mask =  tb.open_file(r\"C:\\Users\\user\\Documents\\UWA\\Honours in Computer Science and Software Engineering\\CITS4402 - Computer Vision\\Project\\archive\\BraTS2020_training_data\\content\\data\\volume_1_slice_\"+str(slice)+\".h5\", mode=\"r\").root.mask.read()\n",
    "    next_glioma_image =  tb.open_file(r\"C:\\Users\\user\\Documents\\UWA\\Honours in Computer Science and Software Engineering\\CITS4402 - Computer Vision\\Project\\archive\\BraTS2020_training_data\\content\\data\\volume_1_slice_\"+str(slice)+\".h5\", mode=\"r\").root.image.read()\n",
    "    \n",
    "    glioma_slices_masks = np.vstack((glioma_slices_masks,next_glioma_mask[np.newaxis,:]))\n",
    "    glioma_slices_images = np.vstack((glioma_slices_images,next_glioma_image[np.newaxis,:]))"
   ]
  },
  {
   "cell_type": "code",
   "execution_count": 3,
   "id": "d51f7ece-a348-45ac-bf77-610e65e1e1ce",
   "metadata": {},
   "outputs": [],
   "source": [
    "# Function to create a merged mask from the list of masks uploaded from the dataset\n",
    "# returns the merged mask\n",
    "def merge_masks2(mask_array):\n",
    "\n",
    "    # merge non-overlapping masks by addition\n",
    "    merge_one = mask_array[:,:,0] + mask_array[:,:,1] + mask_array[:,:,2]\n",
    "   \n",
    "    return merge_one\n"
   ]
  },
  {
   "cell_type": "code",
   "execution_count": 20,
   "id": "7f262aa3-a108-4344-bbf7-6bd9bc23fc05",
   "metadata": {},
   "outputs": [
    {
     "name": "stdout",
     "output_type": "stream",
     "text": [
      "Maximum Volume (Voxels) in one slice is : 5048\n"
     ]
    }
   ],
   "source": [
    "# Function to determine the maximum tumour area present in a slice of an idividual MRI Volume \n",
    "def Maximum_tumout_area(masks):\n",
    "    # set the number  of slices in a volume, set an empty list to accumulate all the glioma volume in voxels\n",
    "    no_slices=masks.shape[0]\n",
    "    slices_count= []\n",
    "\n",
    "    # Loop over all slices calulating the glioma volume in each slice\n",
    "    for slice in range(no_slices):\n",
    "        #set the slice count to zero\n",
    "        slice_count = 0\n",
    "\n",
    "        # Obtain the image of the three masks collectively containing the whole tumour in one image \n",
    "        merged_mask = merge_masks2(glioma_slices_masks[slice,:,:,:])\n",
    "        voxel_count = np.count_nonzero(merged_mask > 0) #calculate the number of  non zero voxels in the image of the glioma\n",
    "\n",
    "        #Append the voxel count to a list\n",
    "        slices_count.append(voxel_count)\n",
    "\n",
    "total_tumor_count = Maximum_tumout_area(glioma_slices_masks)\n",
    "max_vol = max(slices_count)\n",
    "print(f\"Maximum Volume (Voxels) in one slice is : {max_vol}\")\n",
    "\n",
    "            "
   ]
  },
  {
   "cell_type": "code",
   "execution_count": 15,
   "id": "4ab1def3-7cbe-4fa6-9e77-d64f17cdbd95",
   "metadata": {},
   "outputs": [
    {
     "name": "stdout",
     "output_type": "stream",
     "text": [
      "The maximum Diameter of a Glioma is this volume is 48.92 mm\n"
     ]
    }
   ],
   "source": [
    "# Determine the maximum diameter of the tumour in a volume using Principle Component Analysis (PCA)\n",
    "# take as a parameter all 3 masks dowloaded from Kaggle and returns a list of the diqmeters of the tumor for each slice.\n",
    "def tumour_diameter(mask):\n",
    "    # create a PCA object (no of components is one which returns the variance for only one eigenvector), \n",
    "    # and list to store the tumor diameter for a slice\n",
    "    glioma_pca = PCA(n_components=1)\n",
    "    slices_diameter = []\n",
    "    \n",
    "    # loop to determine the standard deviation, from PCA, as an approximation to the radius for eaxch slice of a volume\n",
    "    for slice in range(no_slices):\n",
    "    \n",
    "        # create list to transform x and y co-ordinates in the mask image (mask image is binarized) \n",
    "        # to a list of x and y co-ordinates of pixels in the image having a value of 1.\n",
    "        mask_newaxis = []\n",
    "    \n",
    "        # call merge_mask2 to return an image of the overlayed masks\n",
    "        merged_mask = merge_masks2(mask[slice,:,:,:])\n",
    "    \n",
    "        # Transform the x and y coordinates in the image into a list of lists where the nested list contains the x any y \n",
    "        # co-ordinates in the image of all pixels whose value is 1.\n",
    "        for x in range(merged_mask.shape[0]):\n",
    "            for y in range(merged_mask.shape[1]):\n",
    "                if merged_mask[x,y] == 1:\n",
    "                    mask_newaxis.append([x,y])\n",
    "                elif merged_mask[x,y] == 0:\n",
    "                    continue\n",
    "    \n",
    "        # if no tumour is detected in the mask (ie no value of 1) then append 0 to the list of radius length for that slice\n",
    "        if len(mask_newaxis) == 0:\n",
    "            slices_diameter.append(0)\n",
    "            continue\n",
    "    \n",
    "        # fit the tranformed x and y co-ordinates to the PCA object and get the variance\n",
    "        glioma_pca.fit(mask_newaxis)\n",
    "        variance = glioma_pca.explained_variance_\n",
    "    \n",
    "        # Append the diameter to the diameters list as twice the radius\n",
    "        slices_diameter.append((variance[0]**0.5)*2)\n",
    "\n",
    "    return slices_diameter\n",
    "    \n",
    "diameters = tumour_diameter(glioma_slices_masks)\n",
    "max_tumor_diameter = max(diameters)\n",
    "print(f\"The maximum Diameter of a Glioma in this volume is {round(max_tumor_diameter,2)} mm\")"
   ]
  },
  {
   "cell_type": "code",
   "execution_count": 19,
   "id": "4963c529-6b74-40f8-8365-509f5155fb8a",
   "metadata": {},
   "outputs": [
    {
     "name": "stdout",
     "output_type": "stream",
     "text": [
      "The total number of voxels occupied by the Glioma in the Cerebral Cortex is 5635\n"
     ]
    }
   ],
   "source": [
    "# Function to transform the list of x and y co-ordinates returned by the openCV findContours method\n",
    "# into their corresponding pixels on an image, ie create a new image wioth the contour displayed in 2D\n",
    "def transform_contour(contours):\n",
    "    # Set the width and height of the image to be created, and create a blank image of zeroes\n",
    "    image_w=240\n",
    "    image_h=240\n",
    "    contour_image = np.zeros((image_w,image_h))\n",
    "\n",
    "    # Loop over all the x and y co-ordinates in the co-ordinate list, Set the corresponding x and y\n",
    "    # co-ordinates to 255, ie produce a white contour on a black background (binary image)\n",
    "    for contour in range(len(contours[0])):\n",
    "        contour_image[contours[0][contour][0][1],contours[0][contour][0][0]]=255\n",
    "    \n",
    "    # Return the image of the contour\n",
    "    return contour_image\n",
    "\n",
    "# Function to produce a contour 5 pixels in width, of the brain (cerebral cortex), by producing a contour of the brain\n",
    "# within a slice; storing the image of the contour; then subtracting this contour from the original image and producing\n",
    "# another contour from the reduced image; then adding this image to the original contour. This process is repeated unitl \n",
    "# the image of the stored contours consists of 5 contours, hence being 5 pixels wide,\n",
    "def merge_contours(image):\n",
    "    #set variables for the width and height of the image, and the number or layers required for the combined contour\n",
    "    image_w=240\n",
    "    image_h=240\n",
    "    outer_layers = 5\n",
    "\n",
    "    # Convert the greyscale image of the brain into a binarized format, with all values above zero\n",
    "    # set to 255 ie the brain matter will turn completeley white creating a sharp contrast at the \n",
    "    # border.\n",
    "    ret, image_th = cv2.threshold(image,0,255, cv2.THRESH_BINARY)\n",
    "\n",
    "    # convert the image to the correct datatype and create a blank image to store the created contours\n",
    "    image_uint8 = image_th.astype(np.uint8)\n",
    "    collected_contours = np.zeros((image_w,image_h))\n",
    "\n",
    "    \n",
    "    # Loop to calculate the contours of the brain image (outer contour); accumlate the contours in the\n",
    "    # one image; subtract the produced contour form the image and repeat the procdedure using the reduced image\n",
    "    # until 5 layers of contours have been added.\n",
    "    for cont_num in range(outer_layers):\n",
    "        # method to return the contours from the openCV findContours method. The parameter RETR_EXTERNAL ensure\n",
    "        # only co-ordinates of the pixels in the outer contour of the brain image are returned. If no contour is found\n",
    "        # there is no tumor in the slice the the function continues to process the next slice.\n",
    "        contours, _ = cv2.findContours(image_uint8,cv2.RETR_EXTERNAL , cv2.CHAIN_APPROX_NONE)\n",
    "        if len(contours) == 0: continue\n",
    "\n",
    "        # Call the transform_contours function to return an image of the contour.\n",
    "        contour_image = transform_contour(contours)\n",
    "\n",
    "        # Add the image of the contour to the blank image and accumulate the remaining 4 cnotours on subsequent loop iterations\n",
    "        collected_contours += contour_image\n",
    "\n",
    "        # subtract the contour from the image of the brain to produce a new image reduced in size by one pixel around the edge/perimeter\n",
    "        # and change the datatype to uint8 to promote continued processing of the image\n",
    "        reduced_image = image_uint8 - contour_image\n",
    "        image_uint8 = reduced_image.astype(np.uint8)\n",
    "\n",
    "    # return the combined image of the contours\n",
    "    return collected_contours\n",
    "\n",
    "\n",
    "\n",
    "# function to determine the maximum volume of the Glioma within a MRI volume, by using a combined mask image of the Glioma\n",
    "# as a blocking/filtering mask on an image of the cerrebral cortex. \n",
    "def glioma_cortex_invasion(volume, masks):\n",
    "    # Set the variable to accumulate the numebr of voxels invaded by the glioma in the cerebral cortex across the MRI volume \n",
    "    total_voxels = 0\n",
    "\n",
    "    # loop to process each slice in an MRI volume calculating the glioma occupied part ot the cerebral cortex for each slice\n",
    "    for slice in range(volume.shape[0]):\n",
    "        T1_native = merge_contours(volume[slice,:,:,1]) # get the 5 pixel thick contour of the brain from a slice\n",
    "        glioma_merged_mask = merge_masks2(masks[slice,:,:,:]) # Get the image of the merged masks\n",
    "        glioma_overlap = cv2.bitwise_and(T1_native.astype(np.uint8), glioma_merged_mask) # Return the overlap of the glioma and the cerebral cortex\n",
    "        voxel_count = np.count_nonzero(glioma_overlap == 1) # calculate the nuber of voxels labelled 1 (the overlap)\n",
    "        total_voxels += voxel_count\n",
    "    \n",
    "    return total_voxels\n",
    "    \n",
    "glioma_cotex_invasion = glioma_cortex_invasion(glioma_slices_images,glioma_slices_masks)\n",
    "print(f\"The total number of voxels occupied by the Glioma in the Cerebral Cortex is {glioma_cotex_invasion}\")"
   ]
  },
  {
   "cell_type": "code",
   "execution_count": null,
   "id": "858bdae8-dfff-4b4e-b12e-c50fb8227b5d",
   "metadata": {},
   "outputs": [],
   "source": []
  }
 ],
 "metadata": {
  "kernelspec": {
   "display_name": "Python 3 (ipykernel)",
   "language": "python",
   "name": "python3"
  },
  "language_info": {
   "codemirror_mode": {
    "name": "ipython",
    "version": 3
   },
   "file_extension": ".py",
   "mimetype": "text/x-python",
   "name": "python",
   "nbconvert_exporter": "python",
   "pygments_lexer": "ipython3",
   "version": "3.9.19"
  }
 },
 "nbformat": 4,
 "nbformat_minor": 5
}
